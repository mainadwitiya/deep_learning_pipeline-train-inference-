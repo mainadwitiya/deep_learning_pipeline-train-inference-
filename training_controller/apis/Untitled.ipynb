{
 "cells": [
  {
   "cell_type": "code",
   "execution_count": 45,
   "metadata": {},
   "outputs": [
    {
     "data": {
      "text/plain": [
       "'/home/daisy/mydrive/web-dev/deep_learning_pipeline-train-inference-/training_controller'"
      ]
     },
     "execution_count": 45,
     "metadata": {},
     "output_type": "execute_result"
    }
   ],
   "source": [
    "import os\n",
    "\n",
    "xx=os.getcwd()\n",
    "import pathlib\n",
    "q=pathlib.Path(xx)\n",
    "jj=str(q.parent)\n",
    "jj"
   ]
  },
  {
   "cell_type": "code",
   "execution_count": 46,
   "metadata": {},
   "outputs": [],
   "source": [
    "label_map_path='/post_data/fc3f4e42-c92c-11eb-8ce8-47e7b178684d/Letters_label_map.pbtxt'"
   ]
  },
  {
   "cell_type": "code",
   "execution_count": 47,
   "metadata": {},
   "outputs": [],
   "source": [
    "def read_label_map(label_map_path):\n",
    "\n",
    "    item_id = None\n",
    "    item_name = None\n",
    "    items = {}\n",
    "    label_map_path=jj+label_map_path\n",
    "    with open(label_map_path, \"r\") as file:\n",
    "        for line in file:\n",
    "            \n",
    "            line.replace(\" \", \"\")\n",
    "            if line == \"item{\":\n",
    "                pass\n",
    "            elif line == \"}\":\n",
    "                pass\n",
    "            elif \"id\" in line:\n",
    "                item_id = line.split(\":\", 1)[1].strip()\n",
    "            elif \"name\" in line:\n",
    "                item_name = line.split(\":\", 1)[1].replace(\"'\", \"\").strip()\n",
    "\n",
    "            if item_id is not None and item_name is not None:\n",
    "                items[item_name] = item_id\n",
    "                item_id = None\n",
    "                item_name = None\n",
    "\n",
    "    return items\n",
    "\n"
   ]
  },
  {
   "cell_type": "code",
   "execution_count": 48,
   "metadata": {
    "scrolled": true
   },
   "outputs": [
    {
     "data": {
      "text/plain": [
       "26"
      ]
     },
     "execution_count": 48,
     "metadata": {},
     "output_type": "execute_result"
    }
   ],
   "source": [
    "m=read_label_map(label_map_path)\n",
    "len(m)"
   ]
  },
  {
   "cell_type": "code",
   "execution_count": 49,
   "metadata": {},
   "outputs": [],
   "source": [
    "import pandas as pd\n",
    "import json\n",
    "config_file_path='/home/daisy/Downloads/amercan_sgn/faster_rcnn_resnet50_v1_640x640_coco17_tpu-8.config'\n",
    "final_config_file_path='/home/daisy/Downloads/amercan_sgn/pipeline_config_final.config'\n",
    "# label_path='/home/daisy/Downloads/amercan_sgn/train/Letters_label_map.pbtxt'\n",
    "checkpoint_path='apis/tf_base_od_models/faster_rcnn_resnet101_v1_640x640_coco17_tpu-8/checkpoint/ckpt-0'\n",
    "train_record_file='/home/daisy/Downloads/amercan_sgn/train/Letters.tfrecord'\n",
    "test_record_file='/home/daisy/Downloads/amercan_sgn/train/valid_letters.tfrecord'"
   ]
  },
  {
   "cell_type": "code",
   "execution_count": 52,
   "metadata": {},
   "outputs": [],
   "source": [
    "\n",
    "import argparse\n",
    "\n",
    "import tensorflow as tf\n",
    "from google.protobuf import text_format\n",
    "from object_detection.protos import pipeline_pb2\n",
    "\n",
    "def configue_the_pipeline_file_tf_faster_rcnn(config_file_path,label_path,checkpoint_path,train_record_file,test_record_file)->str:\n",
    "    pipeline_config = pipeline_pb2.TrainEvalPipelineConfig()\n",
    "    \n",
    "    with tf.io.gfile.GFile(config_file_path, \"r\") as f:                                                                                                                                                                                                                     \n",
    "        proto_str = f.read()                                                                                                                                                                                                                                          \n",
    "        text_format.Merge(proto_str, pipeline_config)\n",
    "    classes_dict=read_label_map(label_path)\n",
    "    \n",
    "    pipeline_config.model.faster_rcnn.num_classes=len(classes_dict)\n",
    "    pipeline_config.train_config.fine_tune_checkpoint=checkpoint_path\n",
    "    pipeline_config.train_config.fine_tune_checkpoint_type='detection'\n",
    "    pipeline_config.train_config.batch_size=int(1)\n",
    "    \n",
    "    \n",
    "    pipeline_config.train_input_reader.label_map_path=label_path\n",
    "    pipeline_config.train_input_reader.tf_record_input_reader.input_path[:]=[train_record_file]\n",
    "    pipeline_config.eval_input_reader[0].label_map_path=label_path\n",
    "    pipeline_config.eval_input_reader[0].tf_record_input_reader.input_path[:]=[test_record_file]\n",
    "\n",
    "   \n",
    "    config_text = text_format.MessageToString(pipeline_config)                                                                                                                                                                                                        \n",
    "    with tf.io.gfile.GFile(final_config_file_path, \"wb\") as f:                                                                                                                                                                                                                       \n",
    "        f.write(config_text)\n",
    "    \n",
    "    print(config_text)\n",
    "    \n",
    "    return final_config_file_path"
   ]
  },
  {
   "cell_type": "code",
   "execution_count": 53,
   "metadata": {
    "scrolled": true
   },
   "outputs": [
    {
     "name": "stdout",
     "output_type": "stream",
     "text": [
      "model {\n",
      "  faster_rcnn {\n",
      "    num_classes: 26\n",
      "    image_resizer {\n",
      "      keep_aspect_ratio_resizer {\n",
      "        min_dimension: 640\n",
      "        max_dimension: 640\n",
      "        pad_to_max_dimension: true\n",
      "      }\n",
      "    }\n",
      "    feature_extractor {\n",
      "      type: \"faster_rcnn_resnet50_keras\"\n",
      "      batch_norm_trainable: true\n",
      "    }\n",
      "    first_stage_anchor_generator {\n",
      "      grid_anchor_generator {\n",
      "        height_stride: 16\n",
      "        width_stride: 16\n",
      "        scales: 0.25\n",
      "        scales: 0.5\n",
      "        scales: 1.0\n",
      "        scales: 2.0\n",
      "        aspect_ratios: 0.5\n",
      "        aspect_ratios: 1.0\n",
      "        aspect_ratios: 2.0\n",
      "      }\n",
      "    }\n",
      "    first_stage_box_predictor_conv_hyperparams {\n",
      "      op: CONV\n",
      "      regularizer {\n",
      "        l2_regularizer {\n",
      "          weight: 0.0\n",
      "        }\n",
      "      }\n",
      "      initializer {\n",
      "        truncated_normal_initializer {\n",
      "          stddev: 0.01\n",
      "        }\n",
      "      }\n",
      "    }\n",
      "    first_stage_nms_score_threshold: 0.0\n",
      "    first_stage_nms_iou_threshold: 0.7\n",
      "    first_stage_max_proposals: 300\n",
      "    first_stage_localization_loss_weight: 2.0\n",
      "    first_stage_objectness_loss_weight: 1.0\n",
      "    initial_crop_size: 14\n",
      "    maxpool_kernel_size: 2\n",
      "    maxpool_stride: 2\n",
      "    second_stage_box_predictor {\n",
      "      mask_rcnn_box_predictor {\n",
      "        fc_hyperparams {\n",
      "          op: FC\n",
      "          regularizer {\n",
      "            l2_regularizer {\n",
      "              weight: 0.0\n",
      "            }\n",
      "          }\n",
      "          initializer {\n",
      "            variance_scaling_initializer {\n",
      "              factor: 1.0\n",
      "              uniform: true\n",
      "              mode: FAN_AVG\n",
      "            }\n",
      "          }\n",
      "        }\n",
      "        use_dropout: false\n",
      "        dropout_keep_probability: 1.0\n",
      "        share_box_across_classes: true\n",
      "      }\n",
      "    }\n",
      "    second_stage_post_processing {\n",
      "      batch_non_max_suppression {\n",
      "        score_threshold: 0.0\n",
      "        iou_threshold: 0.6\n",
      "        max_detections_per_class: 100\n",
      "        max_total_detections: 300\n",
      "      }\n",
      "      score_converter: SOFTMAX\n",
      "    }\n",
      "    second_stage_localization_loss_weight: 2.0\n",
      "    second_stage_classification_loss_weight: 1.0\n",
      "    use_matmul_crop_and_resize: true\n",
      "    clip_anchors_to_image: true\n",
      "    use_matmul_gather_in_matcher: true\n",
      "    use_static_balanced_label_sampler: true\n",
      "    use_static_shapes: true\n",
      "  }\n",
      "}\n",
      "train_config {\n",
      "  batch_size: 1\n",
      "  data_augmentation_options {\n",
      "    random_horizontal_flip {\n",
      "    }\n",
      "  }\n",
      "  sync_replicas: true\n",
      "  optimizer {\n",
      "    momentum_optimizer {\n",
      "      learning_rate {\n",
      "        cosine_decay_learning_rate {\n",
      "          learning_rate_base: 0.04\n",
      "          total_steps: 25000\n",
      "          warmup_learning_rate: 0.013333\n",
      "          warmup_steps: 2000\n",
      "        }\n",
      "      }\n",
      "      momentum_optimizer_value: 0.9\n",
      "    }\n",
      "    use_moving_average: false\n",
      "  }\n",
      "  fine_tune_checkpoint: \"apis/tf_base_od_models/faster_rcnn_resnet101_v1_640x640_coco17_tpu-8/checkpoint/ckpt-0\"\n",
      "  num_steps: 25000\n",
      "  startup_delay_steps: 0.0\n",
      "  replicas_to_aggregate: 8\n",
      "  max_number_of_boxes: 100\n",
      "  unpad_groundtruth_tensors: false\n",
      "  fine_tune_checkpoint_type: \"detection\"\n",
      "  use_bfloat16: true\n",
      "  fine_tune_checkpoint_version: V2\n",
      "}\n",
      "train_input_reader {\n",
      "  label_map_path: \"/post_data/fc3f4e42-c92c-11eb-8ce8-47e7b178684d/Letters_label_map.pbtxt\"\n",
      "  tf_record_input_reader {\n",
      "    input_path: \"/home/daisy/Downloads/amercan_sgn/train/Letters.tfrecord\"\n",
      "  }\n",
      "}\n",
      "eval_config {\n",
      "  metrics_set: \"coco_detection_metrics\"\n",
      "  use_moving_averages: false\n",
      "  batch_size: 1\n",
      "}\n",
      "eval_input_reader {\n",
      "  label_map_path: \"/post_data/fc3f4e42-c92c-11eb-8ce8-47e7b178684d/Letters_label_map.pbtxt\"\n",
      "  shuffle: false\n",
      "  num_epochs: 1\n",
      "  tf_record_input_reader {\n",
      "    input_path: \"/home/daisy/Downloads/amercan_sgn/train/valid_letters.tfrecord\"\n",
      "  }\n",
      "}\n",
      "\n"
     ]
    }
   ],
   "source": [
    "final_path=configue_the_pipeline_file_tf_faster_rcnn(config_file_path,label_map_path,checkpoint_path,train_record_file,test_record_file)"
   ]
  },
  {
   "cell_type": "code",
   "execution_count": 10,
   "metadata": {},
   "outputs": [
    {
     "data": {
      "text/plain": [
       "'/home/daisy/Downloads/amercan_sgn/pipeline_config_final.config'"
      ]
     },
     "execution_count": 10,
     "metadata": {},
     "output_type": "execute_result"
    }
   ],
   "source": [
    "final_path"
   ]
  },
  {
   "cell_type": "code",
   "execution_count": null,
   "metadata": {
    "scrolled": true
   },
   "outputs": [],
   "source": [
    "pipeline_config.train_config.batch_size=int(2)"
   ]
  },
  {
   "cell_type": "code",
   "execution_count": null,
   "metadata": {
    "scrolled": true
   },
   "outputs": [],
   "source": [
    "pipeline_config"
   ]
  },
  {
   "cell_type": "code",
   "execution_count": null,
   "metadata": {
    "scrolled": false
   },
   "outputs": [],
   "source": [
    "configue_the_pipeline_file_tf_faster_rcnn(file_path)"
   ]
  },
  {
   "cell_type": "code",
   "execution_count": null,
   "metadata": {},
   "outputs": [],
   "source": []
  },
  {
   "cell_type": "code",
   "execution_count": null,
   "metadata": {
    "scrolled": false
   },
   "outputs": [],
   "source": [
    "import argparse\n",
    "\n",
    "import tensorflow as tf\n",
    "from google.protobuf import text_format\n",
    "from object_detection.protos import pipeline_pb2\n",
    "\n",
    "\n",
    "pipeline_config = pipeline_pb2.TrainEvalPipelineConfig()\n",
    "print(pipeline_config)\n",
    "with tf.io.gfile.GFile(file_path, \"r\") as f:                                                                                                                                                                                                                     \n",
    "    proto_str = f.read()                                                                                                                                                                                                                                          \n",
    "    text_format.Merge(proto_str, pipeline_config) \n",
    "#pipeline_config.train_input_config.label_map_path= \"/home/daisy/Downloads/amercan_sgn/train/Letters_label_map.pbtxt\"\n",
    "\n",
    "config_text = text_format.MessageToString(pipeline_config)                                                                                                                                                                                                        \n",
    "with tf.io.gfile.GFile(path_2, \"wb\") as f:                                                                                                                                                                                                                       \n",
    "    f.write(config_text)  "
   ]
  },
  {
   "cell_type": "code",
   "execution_count": null,
   "metadata": {},
   "outputs": [],
   "source": [
    "pipeline_config"
   ]
  },
  {
   "cell_type": "code",
   "execution_count": null,
   "metadata": {
    "scrolled": true
   },
   "outputs": [],
   "source": [
    "items=read_label_map(\"/home/daisy/Downloads/amercan_sgn/train/Letters_label_map.pbtxt\")\n",
    "\n",
    "pipeline_config.model.faster_rcnn.num_classes=len(items)\n"
   ]
  },
  {
   "cell_type": "code",
   "execution_count": null,
   "metadata": {},
   "outputs": [],
   "source": [
    "pipeline_config.model"
   ]
  },
  {
   "cell_type": "code",
   "execution_count": null,
   "metadata": {},
   "outputs": [],
   "source": [
    "pipeline_config"
   ]
  },
  {
   "cell_type": "code",
   "execution_count": null,
   "metadata": {},
   "outputs": [],
   "source": [
    "def get_image_resizer_config(model_config):\n",
    "  \"\"\"Returns the image resizer config from a model config.\n",
    "  Args:\n",
    "    model_config: A model_pb2.DetectionModel.\n",
    "  Returns:\n",
    "    An image_resizer_pb2.ImageResizer.\n",
    "  Raises:\n",
    "    ValueError: If the model type is not recognized.\n",
    "  \"\"\"\n",
    "  meta_architecture = model_config.WhichOneof(\"model\")\n",
    "  meta_architecture_config = getattr(model_config, meta_architecture)\n",
    "\n",
    "  if hasattr(meta_architecture_config, \"image_resizer\"):\n",
    "    return getattr(meta_architecture_config, \"image_resizer\")\n",
    "  else:\n",
    "    raise ValueError(\"{} has no image_reszier_config\".format(\n",
    "        meta_architecture))"
   ]
  },
  {
   "cell_type": "code",
   "execution_count": null,
   "metadata": {},
   "outputs": [],
   "source": [
    "get_image_resizer_config(pipeline_config)"
   ]
  },
  {
   "cell_type": "code",
   "execution_count": null,
   "metadata": {},
   "outputs": [],
   "source": [
    "meta_architecture = model_config.WhichOneof(\"model\")"
   ]
  },
  {
   "cell_type": "code",
   "execution_count": null,
   "metadata": {
    "scrolled": false
   },
   "outputs": [],
   "source": [
    "type(pipeline_config)\n"
   ]
  },
  {
   "cell_type": "code",
   "execution_count": null,
   "metadata": {
    "scrolled": true
   },
   "outputs": [],
   "source": [
    "pipeline_config.train_confi1g.fine_tune_checkpoint"
   ]
  },
  {
   "cell_type": "code",
   "execution_count": null,
   "metadata": {},
   "outputs": [],
   "source": [
    "pipeline_config.train_config.fine_tune_checkpoint_type"
   ]
  },
  {
   "cell_type": "code",
   "execution_count": null,
   "metadata": {},
   "outputs": [],
   "source": [
    "pipeline_config.train_config.batch_size"
   ]
  },
  {
   "cell_type": "code",
   "execution_count": null,
   "metadata": {},
   "outputs": [],
   "source": [
    "pipeline_config.train_input_reader.label_map_path"
   ]
  },
  {
   "cell_type": "code",
   "execution_count": null,
   "metadata": {},
   "outputs": [],
   "source": [
    "pipeline_config.train_input_reader.tf_record_input_reader.input_path"
   ]
  },
  {
   "cell_type": "code",
   "execution_count": null,
   "metadata": {},
   "outputs": [],
   "source": [
    "x=\"/post_data/0eaed71a-c91d-11eb-a2e9-2ff7dc84e18f/Letters_label_map.pbtxt\""
   ]
  },
  {
   "cell_type": "code",
   "execution_count": null,
   "metadata": {},
   "outputs": [],
   "source": [
    "new_path='/'+x.split('/')[1]+'/'+x.split('/')[2]+'/'"
   ]
  },
  {
   "cell_type": "code",
   "execution_count": null,
   "metadata": {},
   "outputs": [],
   "source": [
    "# new_path='/'+x[1]+'/'+x[2]+'/'"
   ]
  },
  {
   "cell_type": "code",
   "execution_count": null,
   "metadata": {},
   "outputs": [],
   "source": [
    "new_path"
   ]
  },
  {
   "cell_type": "code",
   "execution_count": null,
   "metadata": {},
   "outputs": [],
   "source": [
    "info_dict={'id': 125, 'usecase_type': 'Object detection', 'framework_type': 'tensorflow', 'model_arch_type': 'fasterrcnn', 'training_data': '/post_data/5bce4f28-c92a-11eb-8ce8-47e7b178684d/Letters.tfrecord', 'test_data': '/post_data/5bce4f28-c92a-11eb-8ce8-47e7b178684d/valid_letters.tfrecord', 'label_file_data': '/post_data/5bce4f28-c92a-11eb-8ce8-47e7b178684d/Letters_label_map.pbtxt'}\n"
   ]
  },
  {
   "cell_type": "code",
   "execution_count": null,
   "metadata": {},
   "outputs": [],
   "source": [
    "info_dict['label_file_data']"
   ]
  },
  {
   "cell_type": "code",
   "execution_count": null,
   "metadata": {},
   "outputs": [],
   "source": []
  }
 ],
 "metadata": {
  "kernelspec": {
   "display_name": "Python 3",
   "language": "python",
   "name": "python3"
  },
  "language_info": {
   "codemirror_mode": {
    "name": "ipython",
    "version": 3
   },
   "file_extension": ".py",
   "mimetype": "text/x-python",
   "name": "python",
   "nbconvert_exporter": "python",
   "pygments_lexer": "ipython3",
   "version": "3.8.5"
  }
 },
 "nbformat": 4,
 "nbformat_minor": 4
}
